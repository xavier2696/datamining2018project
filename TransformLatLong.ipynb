{
 "cells": [
  {
   "cell_type": "code",
   "execution_count": null,
   "metadata": {},
   "outputs": [],
   "source": [
    "import pandas as pd\n",
    "\n",
    "df = pd.read_pickle('shanhua.pkl')"
   ]
  },
  {
   "cell_type": "code",
   "execution_count": null,
   "metadata": {},
   "outputs": [],
   "source": [
    "from selenium import webdriver\n",
    "\n",
    "driver = webdriver.Chrome()"
   ]
  },
  {
   "cell_type": "code",
   "execution_count": null,
   "metadata": {},
   "outputs": [],
   "source": [
    "def findTarget(html):\n",
    "    x = str()\n",
    "    locX = html.find(',')\n",
    "    for t in html[:locX]:\n",
    "        if t == '<':\n",
    "            break\n",
    "        x += t\n",
    "\n",
    "    y = str()\n",
    "    locY = html.find(\"\\n\")\n",
    "    for t in html[locX+1:locY]:\n",
    "        if t == '<':\n",
    "            break\n",
    "        y += t\n",
    "    \n",
    "    if (locX == -1 or\n",
    "        locY == -1):\n",
    "        return None, None\n",
    "    \n",
    "    return x, y"
   ]
  },
  {
   "cell_type": "code",
   "execution_count": null,
   "metadata": {},
   "outputs": [],
   "source": [
    "import time\n",
    "\n",
    "pd_lat = []\n",
    "pd_long = []\n",
    "# pd_door = []\n",
    "for i in range(df.shape[0]):\n",
    "    target = df.iloc[i]\n",
    "    if len(target['address']) == 0:\n",
    "        pd_lat.append('')\n",
    "        pd_long.append('')\n",
    "        continue\n",
    "    \n",
    "    address = str()\n",
    "    address = (target['address'][0]['行政區'] + \n",
    "               target['address'][0]['村里鄰'] +\n",
    "               target['address'][0]['路街段巷弄'] +\n",
    "               target['address'][0]['號'])\n",
    "    \n",
    "    driver.get(\"http://gps.uhooamber.com/address-to-lat-lng.html\")\n",
    "    input1 =  driver.find_element_by_id(\"source\")\n",
    "    input1.clear()\n",
    "    input1.send_keys(address)\n",
    "    driver.find_element_by_name(\"B1\").click()\n",
    "    out = driver.find_element_by_id(\"target\")\n",
    "\n",
    "    timeout = time.time() + 2   # 2 sec from now\n",
    "    \n",
    "    try:\n",
    "        while True:\n",
    "            c = out.get_attribute('value')\n",
    "            x, y = findTarget(c)\n",
    "            if (x != None and\n",
    "                y != None):\n",
    "                break\n",
    "            if time.time() > timeout:\n",
    "                driver.get(\"http://gps.uhooamber.com/address-to-lat-lng.html\")\n",
    "                input1 =  driver.find_element_by_id(\"source\")\n",
    "                input1.clear()\n",
    "                input1.send_keys(address)\n",
    "                timeout = time.time() + 2\n",
    "                \n",
    "        pd_lat.append(x)\n",
    "        pd_long.append(y)\n",
    "        print(i)\n",
    "        print(x)\n",
    "        print(y)\n",
    "        print(address)\n",
    "        print('==============================')\n",
    "    except:\n",
    "        types, message, traceback = sys.exc_info()\n",
    "        print(types)\n",
    "        print(message)\n",
    "        print(address)\n",
    "        pd_lat.append('')\n",
    "        pd_long.append('')\n",
    "        continue"
   ]
  }
 ],
 "metadata": {
  "kernelspec": {
   "display_name": "NTHU_DataMining",
   "language": "python",
   "name": "nthu_datamining"
  },
  "language_info": {
   "codemirror_mode": {
    "name": "ipython",
    "version": 3
   },
   "file_extension": ".py",
   "mimetype": "text/x-python",
   "name": "python",
   "nbconvert_exporter": "python",
   "pygments_lexer": "ipython3",
   "version": "3.6.6"
  }
 },
 "nbformat": 4,
 "nbformat_minor": 2
}
