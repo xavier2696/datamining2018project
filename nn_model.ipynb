{
  "cells": [
    {
      "metadata": {
        "_uuid": "8f2839f25d086af736a60e9eeb907d3b93b6e0e5",
        "_cell_guid": "b1076dfc-b9ad-4769-8c92-a6c4dae69d19",
        "trusted": true
      },
      "cell_type": "code",
      "source": "# This Python 3 environment comes with many helpful analytics libraries installed\n# It is defined by the kaggle/python docker image: https://github.com/kaggle/docker-python\n# For example, here's several helpful packages to load in \n\nimport numpy as np # linear algebra\nimport pandas as pd # data processing, CSV file I/O (e.g. pd.read_csv)\n\n# Input data files are available in the \"../input/\" directory.\n# For example, running this (by clicking run or pressing Shift+Enter) will list the files in the input directory\n\nimport os\nprint(os.listdir(\"../input\"))\n\n# Any results you write to the current directory are saved as output.",
      "execution_count": null,
      "outputs": []
    },
    {
      "metadata": {
        "_cell_guid": "79c7e3d0-c299-4dcb-8224-4455121ee9b0",
        "_uuid": "d629ff2d2480ee46fbb7e2d37f6b5fab8052498a",
        "trusted": true
      },
      "cell_type": "code",
      "source": "import pandas as pd\nimport numpy as np\nimport keras\nfrom sklearn.preprocessing import LabelEncoder\nimport re\nfrom sklearn import preprocessing\nfrom keras.models import Model\nfrom keras.layers import Input, Dense\nfrom keras.layers import ReLU, Softmax",
      "execution_count": null,
      "outputs": []
    },
    {
      "metadata": {
        "trusted": true,
        "_uuid": "c1251e3d569be5769921ad2f269d7734d21b705f"
      },
      "cell_type": "code",
      "source": "data = pd.read_pickle('../input/all_tainan_data.pkl')\ndata.reset_index(drop=True, inplace=True) ",
      "execution_count": null,
      "outputs": []
    },
    {
      "metadata": {
        "trusted": true,
        "_uuid": "9f12c7345153dd39152b0c73adcdad00104c9551"
      },
      "cell_type": "code",
      "source": "data.info()",
      "execution_count": null,
      "outputs": []
    },
    {
      "metadata": {
        "trusted": true,
        "_uuid": "0ef9e21ee9a137765a08bbb8ddffe8dbd3668a2e"
      },
      "cell_type": "code",
      "source": "x_train = data[['base_area', 'building_area', 'height', 'latitude'\\\n               , 'longitude', 'number_basements', 'number_design_changes', 'number_floors'\\\n              ,'number_households', 'total_floor_area', 'liquefaction','e_PGA', 'e_PGV', 'e_PGD', 'n_PGA', 'n_PGV'\\\n              ,'n_PGD', 'u_PGA', 'u_PGV', 'u_PGD']]\ny_train = data['damage_level']",
      "execution_count": null,
      "outputs": []
    },
    {
      "metadata": {
        "trusted": true,
        "_uuid": "028c2a7a3938517e94380226b8c2ad6c569d28d2"
      },
      "cell_type": "code",
      "source": "dates = []\nfor item in data.issuing_license_number:\n    date = re.findall('\\([0-9]+\\)|$', item)[0]\n    date = re.sub('\\(|\\)', '', date)\n    if date == '':\n        date = '61'\n    dates += [int(date)]",
      "execution_count": null,
      "outputs": []
    },
    {
      "metadata": {
        "trusted": true,
        "_uuid": "15012ea1266d0176af1743a15803cce56f45ec5b"
      },
      "cell_type": "code",
      "source": "x_train['date'] = dates",
      "execution_count": null,
      "outputs": []
    },
    {
      "metadata": {
        "trusted": true,
        "_uuid": "871cd4830094cb1747ecbe6755135f869a42add3"
      },
      "cell_type": "code",
      "source": "def label_encode(le, labels):\n    enc = le.transform(labels)\n    return keras.utils.to_categorical(enc)\n\ndef label_decode(le, one_hot_label):\n    dec = np.argmax(one_hot_label, axis=1)\n    return le.inverse_transform(dec)",
      "execution_count": null,
      "outputs": []
    },
    {
      "metadata": {
        "trusted": true,
        "_uuid": "6815adabed5950c5547c0353deee313fe167026d"
      },
      "cell_type": "code",
      "source": "category_binarizer = preprocessing.LabelBinarizer()\ncategory_binarizer.fit(data.category)\ncategory_binarizer.transform(data['category'])\nbinary_category = category_binarizer.transform(data['category'])",
      "execution_count": null,
      "outputs": []
    },
    {
      "metadata": {
        "trusted": true,
        "_uuid": "aa8dae58264df055a9f36d14391f1189f624b27a"
      },
      "cell_type": "code",
      "source": "#todo represent this differently\nconstruction_type_binarizer = preprocessing.LabelBinarizer()\nconstruction_type_binarizer.fit(data.construction_type)\nbinary_construction = construction_type_binarizer.transform(data['construction_type'])",
      "execution_count": null,
      "outputs": []
    },
    {
      "metadata": {
        "trusted": true,
        "_uuid": "f5f9123d319c735355d5b44994be0714c0253387"
      },
      "cell_type": "code",
      "source": "license_category_binarizer = preprocessing.LabelBinarizer()\nlicense_category_binarizer.fit(data.license_category)\nbinary_license = license_category_binarizer.transform(data['license_category'])",
      "execution_count": null,
      "outputs": []
    },
    {
      "metadata": {
        "trusted": true,
        "_uuid": "320abd9147e9876a46012efcaa914dbd2122de8d"
      },
      "cell_type": "code",
      "source": "x_train.info()",
      "execution_count": null,
      "outputs": []
    },
    {
      "metadata": {
        "trusted": true,
        "_uuid": "fe6c205de7a0080df270df81e4ee67d5a2ef6f85"
      },
      "cell_type": "code",
      "source": "y_train_encoder = LabelEncoder()\ny_train_encoder.fit(y_train)\ny_train = label_encode(y_train_encoder, y_train)",
      "execution_count": null,
      "outputs": []
    },
    {
      "metadata": {
        "trusted": true,
        "_uuid": "3889bd62ee32c69d60a41e72e68eba07339ce75a"
      },
      "cell_type": "code",
      "source": "#prepare x_train\nx_train = x_train.values",
      "execution_count": null,
      "outputs": []
    },
    {
      "metadata": {
        "trusted": true,
        "_uuid": "5f556a580b8b1eac35e2b3d0c6dc367d8893f9e8"
      },
      "cell_type": "code",
      "source": "print(\"Shape x_train:\",x_train.shape)\nprint(\"Shape binary_category:\",binary_category.shape)\nprint(\"Shape binary_construction:\",binary_construction.shape)\nprint(\"Shape binary_license:\",binary_license.shape)",
      "execution_count": null,
      "outputs": []
    },
    {
      "metadata": {
        "trusted": true,
        "_uuid": "6cfae1c4dcf8151e360884eea92290ece04a6942"
      },
      "cell_type": "code",
      "source": "#concatenate all categorical attributes after binarization\nx_train = np.concatenate((x_train,binary_category), axis = 1)\nx_train = np.concatenate((x_train,binary_construction), axis = 1)\nx_train = np.concatenate((x_train,binary_license), axis = 1)",
      "execution_count": null,
      "outputs": []
    },
    {
      "metadata": {
        "trusted": true,
        "_uuid": "28b04b4ca23120b54017dcf92e7a6b1f098d9a92"
      },
      "cell_type": "code",
      "source": "x_train.shape",
      "execution_count": null,
      "outputs": []
    },
    {
      "metadata": {
        "trusted": true,
        "_uuid": "eca16e748566cd57b619ab69960747bf44860ab3"
      },
      "cell_type": "code",
      "source": "# I/O check\ninput_shape = x_train.shape[1]\nprint('input_shape: ', input_shape)\n\noutput_shape = len(y_train_encoder.classes_)\nprint('output_shape: ', output_shape)",
      "execution_count": null,
      "outputs": []
    },
    {
      "metadata": {
        "trusted": true,
        "_uuid": "2bae8e6b973df84e29c24189457aca96c37baea8"
      },
      "cell_type": "code",
      "source": "\n# input layer\nmodel_input = Input(shape=(input_shape, ))  # 500\nX = model_input\n\n# 1st hidden layer\nX_W1 = Dense(units=128)(X)  # 64\nH1 = ReLU()(X_W1)\n\n# 2nd hidden layer\nH1_W2 = Dense(units=128)(H1)  # 64\nH2 = ReLU()(H1_W2)\n\n# output layer\nH2_W3 = Dense(units=output_shape)(H2)  # 4\nH3 = Softmax()(H2_W3)\n\nmodel_output = H3\n\n# create model\nmodel = Model(inputs=[model_input], outputs=[model_output])\n\n# loss function & optimizer\nmodel.compile(optimizer='adam',\n              loss='categorical_crossentropy',\n              metrics=['accuracy'])\n\n# show model construction\nmodel.summary()",
      "execution_count": null,
      "outputs": []
    },
    {
      "metadata": {
        "trusted": true,
        "_uuid": "52fd1d2195b34780189e3ef266864267e84d434b"
      },
      "cell_type": "code",
      "source": "epochs = 5\nbatch_size = 32\n\n# training!\nhistory = model.fit(x_train, y_train, epochs=epochs, batch_size=batch_size)\nprint('training finish')",
      "execution_count": null,
      "outputs": []
    },
    {
      "metadata": {
        "trusted": true,
        "_uuid": "372bcc338cbf37bae59890413dfaca7a555f7bfd"
      },
      "cell_type": "code",
      "source": "#predict\npred_result = model.predict(x_test, batch_size = 128)\npred_result = label_decode(y_train_encoder, pred_result)",
      "execution_count": null,
      "outputs": []
    },
    {
      "metadata": {
        "trusted": true,
        "_uuid": "17f3304781a178cc1d4cdb74995a8333a11d5612"
      },
      "cell_type": "code",
      "source": "collapse = 0\ndanger = 0\nno_danger = 0\nfor item in pred_result:\n    if item == 1:\n        danger += 1\n    if item == 2:\n        collapse += 1\n    if item == 0:\n        no_danger += 1\nprint(danger)\nprint(collapse)\nprint(no_danger)\nprint(len(pred_result))",
      "execution_count": null,
      "outputs": []
    }
  ],
  "metadata": {
    "kernelspec": {
      "display_name": "Python 3",
      "language": "python",
      "name": "python3"
    },
    "language_info": {
      "name": "python",
      "version": "3.6.6",
      "mimetype": "text/x-python",
      "codemirror_mode": {
        "name": "ipython",
        "version": 3
      },
      "pygments_lexer": "ipython3",
      "nbconvert_exporter": "python",
      "file_extension": ".py"
    }
  },
  "nbformat": 4,
  "nbformat_minor": 1
}