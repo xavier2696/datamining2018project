{
 "cells": [
  {
   "cell_type": "code",
   "execution_count": 2,
   "metadata": {},
   "outputs": [
    {
     "name": "stderr",
     "output_type": "stream",
     "text": [
      "Using TensorFlow backend.\n"
     ]
    }
   ],
   "source": [
    "import pandas as pd\n",
    "import numpy as np\n",
    "import keras"
   ]
  },
  {
   "cell_type": "code",
   "execution_count": 3,
   "metadata": {},
   "outputs": [],
   "source": [
    "data = pd.read_pickle('all_tainan_data.pkl')"
   ]
  },
  {
   "cell_type": "code",
   "execution_count": 4,
   "metadata": {},
   "outputs": [
    {
     "name": "stdout",
     "output_type": "stream",
     "text": [
      "<class 'pandas.core.frame.DataFrame'>\n",
      "Int64Index: 173978 entries, 1 to 193558\n",
      "Data columns (total 25 columns):\n",
      "base_area                173978 non-null float64\n",
      "building_area            173978 non-null float64\n",
      "category                 173978 non-null object\n",
      "construction_type        173978 non-null object\n",
      "date                     173978 non-null object\n",
      "height                   173978 non-null float64\n",
      "latitude                 173978 non-null float64\n",
      "license_category         173978 non-null object\n",
      "longitude                173978 non-null float64\n",
      "number_basements         173978 non-null int64\n",
      "number_design_changes    173978 non-null int64\n",
      "number_floors            173978 non-null int64\n",
      "number_households        173978 non-null int64\n",
      "total_floor_area         173978 non-null float64\n",
      "damage_level             173978 non-null int64\n",
      "liquefaction             173978 non-null int64\n",
      "e_PGA                    173978 non-null float64\n",
      "e_PGV                    173978 non-null float64\n",
      "e_PGD                    173978 non-null float64\n",
      "n_PGA                    173978 non-null float64\n",
      "n_PGV                    173978 non-null float64\n",
      "n_PGD                    173978 non-null float64\n",
      "u_PGA                    173978 non-null float64\n",
      "u_PGV                    173978 non-null float64\n",
      "u_PGD                    173978 non-null float64\n",
      "dtypes: float64(15), int64(6), object(4)\n",
      "memory usage: 34.5+ MB\n"
     ]
    }
   ],
   "source": [
    "data.info()"
   ]
  },
  {
   "cell_type": "code",
   "execution_count": null,
   "metadata": {},
   "outputs": [],
   "source": [
    "x_train = data['base_area', 'building_area', 'category', 'construction_type', 'date', 'height', 'latitude'\\\n",
    "               ,'license_category', 'longitude', 'number_basements', 'number_design_changes', 'number_floors'\\\n",
    "              'number_households', 'total_floor_area', 'liquefaction','e_PGA', 'e_PGV', 'e_PGD', 'n_PGA']"
   ]
  },
  {
   "cell_type": "code",
   "execution_count": null,
   "metadata": {},
   "outputs": [],
   "source": [
    "#one hot encoding for categorical labels\n"
   ]
  }
 ],
 "metadata": {
  "kernelspec": {
   "display_name": "Python 3",
   "language": "python",
   "name": "python3"
  },
  "language_info": {
   "codemirror_mode": {
    "name": "ipython",
    "version": 3
   },
   "file_extension": ".py",
   "mimetype": "text/x-python",
   "name": "python",
   "nbconvert_exporter": "python",
   "pygments_lexer": "ipython3",
   "version": "3.5.6"
  }
 },
 "nbformat": 4,
 "nbformat_minor": 2
}
