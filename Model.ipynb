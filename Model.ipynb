{
 "cells": [
  {
   "cell_type": "code",
   "execution_count": 72,
   "metadata": {},
   "outputs": [],
   "source": [
    "import pandas as pd\n",
    "import numpy as np\n",
    "import keras\n",
    "from sklearn.preprocessing import LabelEncoder\n",
    "import re"
   ]
  },
  {
   "cell_type": "code",
   "execution_count": 34,
   "metadata": {},
   "outputs": [],
   "source": [
    "data = pd.read_pickle('data/all_tainan_data.pkl')\n",
    "data.reset_index(drop=True, inplace=True) "
   ]
  },
  {
   "cell_type": "code",
   "execution_count": 35,
   "metadata": {},
   "outputs": [
    {
     "name": "stdout",
     "output_type": "stream",
     "text": [
      "<class 'pandas.core.frame.DataFrame'>\n",
      "RangeIndex: 173978 entries, 0 to 173977\n",
      "Data columns (total 25 columns):\n",
      "base_area                173978 non-null float64\n",
      "building_area            173978 non-null float64\n",
      "category                 173978 non-null object\n",
      "construction_type        173978 non-null object\n",
      "date                     173978 non-null object\n",
      "height                   173978 non-null float64\n",
      "latitude                 173978 non-null float64\n",
      "license_category         173978 non-null object\n",
      "longitude                173978 non-null float64\n",
      "number_basements         173978 non-null int64\n",
      "number_design_changes    173978 non-null int64\n",
      "number_floors            173978 non-null int64\n",
      "number_households        173978 non-null int64\n",
      "total_floor_area         173978 non-null float64\n",
      "damage_level             173978 non-null int64\n",
      "liquefaction             173978 non-null int64\n",
      "e_PGA                    173978 non-null float64\n",
      "e_PGV                    173978 non-null float64\n",
      "e_PGD                    173978 non-null float64\n",
      "n_PGA                    173978 non-null float64\n",
      "n_PGV                    173978 non-null float64\n",
      "n_PGD                    173978 non-null float64\n",
      "u_PGA                    173978 non-null float64\n",
      "u_PGV                    173978 non-null float64\n",
      "u_PGD                    173978 non-null float64\n",
      "dtypes: float64(15), int64(6), object(4)\n",
      "memory usage: 33.2+ MB\n"
     ]
    }
   ],
   "source": [
    "data.info()"
   ]
  },
  {
   "cell_type": "code",
   "execution_count": 97,
   "metadata": {},
   "outputs": [],
   "source": [
    "x_train = data[['base_area', 'building_area', 'category', 'construction_type', 'date', 'height', 'latitude'\\\n",
    "               ,'license_category', 'longitude', 'number_basements', 'number_design_changes', 'number_floors'\\\n",
    "              ,'number_households', 'total_floor_area', 'liquefaction','e_PGA', 'e_PGV', 'e_PGD', 'n_PGA', 'n_PGV'\\\n",
    "              ,'n_PGD', 'u_PGA', 'u_PGV', 'u_PGD']]\n",
    "y_train = data['damage_level']"
   ]
  },
  {
   "cell_type": "code",
   "execution_count": 87,
   "metadata": {},
   "outputs": [
    {
     "data": {
      "text/plain": [
       "base_area                    113.13\n",
       "building_area                 66.96\n",
       "category                        old\n",
       "construction_type               RC造\n",
       "date                     000年00月03日\n",
       "height                        10.65\n",
       "latitude                    23.1344\n",
       "license_category                use\n",
       "longitude                   120.294\n",
       "number_basements                  0\n",
       "number_design_changes             0\n",
       "number_floors                     3\n",
       "number_households                 1\n",
       "total_floor_area             218.74\n",
       "liquefaction                      1\n",
       "e_PGA                       12.9178\n",
       "e_PGV                       12.1147\n",
       "e_PGD                       11.3287\n",
       "n_PGA                       15.3959\n",
       "n_PGV                       14.2452\n",
       "n_PGD                       15.1051\n",
       "u_PGA                       1.90597\n",
       "u_PGV                       2.46272\n",
       "u_PGD                       3.77236\n",
       "Name: 120557, dtype: object"
      ]
     },
     "execution_count": 87,
     "metadata": {},
     "output_type": "execute_result"
    }
   ],
   "source": [
    "x_train.loc[120557]"
   ]
  },
  {
   "cell_type": "code",
   "execution_count": 98,
   "metadata": {},
   "outputs": [
    {
     "name": "stderr",
     "output_type": "stream",
     "text": [
      "/home/xavier/anaconda3/lib/python3.5/site-packages/ipykernel_launcher.py:26: SettingWithCopyWarning: \n",
      "A value is trying to be set on a copy of a slice from a DataFrame.\n",
      "Try using .loc[row_indexer,col_indexer] = value instead\n",
      "\n",
      "See the caveats in the documentation: http://pandas.pydata.org/pandas-docs/stable/indexing.html#indexing-view-versus-copy\n"
     ]
    }
   ],
   "source": [
    "#deal with dates\n",
    "dates = []\n",
    "for item in x_train.date:\n",
    "    split_date = item.split('年')\n",
    "    numeric_year = split_date[0]\n",
    "    split_date = split_date[1].split('月')\n",
    "    numeric_month = split_date[0]\n",
    "    split_date = split_date[1].split('日')\n",
    "    numeric_day = split_date[0]\n",
    "    if numeric_year == '' or numeric_year == '***':\n",
    "        numeric_year = '8'\n",
    "    if numeric_month == '' or numeric_day == '*' or numeric_month == '**':\n",
    "        numeric_month = '0'\n",
    "    if numeric_day == '' or numeric_day == '*' or numeric_day == '**':\n",
    "        numeric_day = '0'\n",
    "    if numeric_year == '109' or numeric_year == '108':#\n",
    "        numeric_year == '107'\n",
    "    numeric_year = int(numeric_year) * 365\n",
    "    numeric_month = int(numeric_month) * 30\n",
    "    numeric_day = int(numeric_day)\n",
    "    if numeric_year == 0:\n",
    "        numeric_year = 8 * 365\n",
    "    numeric_date = numeric_year + numeric_month + numeric_day\n",
    "    dates += [numeric_date]\n",
    "    \n",
    "x_train['date'] = dates"
   ]
  },
  {
   "cell_type": "code",
   "execution_count": 92,
   "metadata": {},
   "outputs": [
    {
     "data": {
      "text/plain": [
       "173968     2920\n",
       "173969    39200\n",
       "173970    39381\n",
       "173971     2920\n",
       "173972    39373\n",
       "173973     2920\n",
       "173974     2920\n",
       "173975    39268\n",
       "173976     2920\n",
       "173977     2920\n",
       "Name: date, dtype: int64"
      ]
     },
     "execution_count": 92,
     "metadata": {},
     "output_type": "execute_result"
    }
   ],
   "source": [
    "x_train.date[-10:]"
   ]
  },
  {
   "cell_type": "code",
   "execution_count": 99,
   "metadata": {},
   "outputs": [],
   "source": [
    "def label_encode(le, labels):\n",
    "    enc = le.transform(labels)\n",
    "    return keras.utils.to_categorical(enc)\n",
    "\n",
    "def label_decode(le, one_hot_label):\n",
    "    dec = np.argmax(one_hot_label, axis=1)\n",
    "    return le.inverse_transform(dec)"
   ]
  },
  {
   "cell_type": "code",
   "execution_count": 100,
   "metadata": {},
   "outputs": [
    {
     "name": "stdout",
     "output_type": "stream",
     "text": [
      "old    173978\n",
      "Name: category, dtype: int64\n"
     ]
    },
    {
     "name": "stderr",
     "output_type": "stream",
     "text": [
      "/home/xavier/anaconda3/lib/python3.5/site-packages/ipykernel_launcher.py:5: SettingWithCopyWarning: \n",
      "A value is trying to be set on a copy of a slice from a DataFrame.\n",
      "Try using .loc[row_indexer,col_indexer] = value instead\n",
      "\n",
      "See the caveats in the documentation: http://pandas.pydata.org/pandas-docs/stable/indexing.html#indexing-view-versus-copy\n",
      "  \"\"\"\n"
     ]
    },
    {
     "data": {
      "text/plain": [
       "1.0    173978\n",
       "Name: category, dtype: int64"
      ]
     },
     "execution_count": 100,
     "metadata": {},
     "output_type": "execute_result"
    }
   ],
   "source": [
    "#one hot encoding for categorical labels\n",
    "print(x_train.category.value_counts())\n",
    "category_encoder = LabelEncoder()\n",
    "category_encoder.fit(x_train.category)\n",
    "x_train['category'] = label_encode(category_encoder, x_train['category'])\n",
    "x_train.category.value_counts()"
   ]
  },
  {
   "cell_type": "code",
   "execution_count": null,
   "metadata": {},
   "outputs": [],
   "source": [
    "#todo represent this differently\n",
    "print(x_train.construction_type.value_counts())\n",
    "construction_type_encoder = LabelEncoder()\n",
    "construction_type_encoder.fit(x_train.construction_type)\n",
    "x_train['construction_type'] = label_encode(construction_type_encoder, x_train['construction_type'])\n",
    "x_train.construction_type.value_counts()"
   ]
  },
  {
   "cell_type": "code",
   "execution_count": null,
   "metadata": {},
   "outputs": [],
   "source": [
    "print(x_train.license_category.value_counts())\n",
    "license_category_encoder = LabelEncoder()\n",
    "license_category_encoder.fit(x_train.license_category)\n",
    "x_train['license_category'] = label_encode(license_category_encoder, x_train['license_category'])\n",
    "x_train.license_category.value_counts()"
   ]
  },
  {
   "cell_type": "code",
   "execution_count": null,
   "metadata": {},
   "outputs": [],
   "source": [
    "y_train_encoder = LabelEncoder()\n",
    "y_train_encoder.fit(y_train)\n",
    "y_train = label_encode(construction_type_encoder, y_train)\n",
    "y_train[:10]"
   ]
  },
  {
   "cell_type": "code",
   "execution_count": null,
   "metadata": {},
   "outputs": [],
   "source": [
    "#prepare x_train\n",
    "x_train = x_train.values"
   ]
  },
  {
   "cell_type": "code",
   "execution_count": null,
   "metadata": {},
   "outputs": [],
   "source": [
    "# I/O check\n",
    "input_shape = x_train.shape[1]\n",
    "print('input_shape: ', input_shape)\n",
    "\n",
    "output_shape = len(y_train_encoder.classes_)\n",
    "print('output_shape: ', output_shape)"
   ]
  },
  {
   "cell_type": "code",
   "execution_count": null,
   "metadata": {},
   "outputs": [],
   "source": [
    "from keras.models import Model\n",
    "from keras.layers import Input, Dense\n",
    "from keras.layers import ReLU, Softmax\n",
    "\n",
    "# input layer\n",
    "model_input = Input(shape=(input_shape, ))  # 500\n",
    "X = model_input\n",
    "\n",
    "# 1st hidden layer\n",
    "X_W1 = Dense(units=128)(X)  # 64\n",
    "H1 = ReLU()(X_W1)\n",
    "\n",
    "# 2nd hidden layer\n",
    "H1_W2 = Dense(units=128)(H1)  # 64\n",
    "H2 = ReLU()(H1_W2)\n",
    "\n",
    "# output layer\n",
    "H2_W3 = Dense(units=output_shape)(H2)  # 4\n",
    "H3 = Softmax()(H2_W3)\n",
    "\n",
    "model_output = H3\n",
    "\n",
    "# create model\n",
    "model = Model(inputs=[model_input], outputs=[model_output])\n",
    "\n",
    "# loss function & optimizer\n",
    "model.compile(optimizer='adam',\n",
    "              loss='categorical_crossentropy',\n",
    "              metrics=['accuracy'])\n",
    "\n",
    "# show model construction\n",
    "model.summary()"
   ]
  },
  {
   "cell_type": "code",
   "execution_count": null,
   "metadata": {},
   "outputs": [],
   "source": [
    "epochs = 5\n",
    "batch_size = 32\n",
    "\n",
    "# training!\n",
    "history = model.fit(x_train, y_train, epochs=epochs, batch_size=batch_size)\n",
    "print('training finish')"
   ]
  }
 ],
 "metadata": {
  "kernelspec": {
   "display_name": "Python 3",
   "language": "python",
   "name": "python3"
  },
  "language_info": {
   "codemirror_mode": {
    "name": "ipython",
    "version": 3
   },
   "file_extension": ".py",
   "mimetype": "text/x-python",
   "name": "python",
   "nbconvert_exporter": "python",
   "pygments_lexer": "ipython3",
   "version": "3.5.6"
  }
 },
 "nbformat": 4,
 "nbformat_minor": 2
}
