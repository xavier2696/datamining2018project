{
 "cells": [
  {
   "cell_type": "markdown",
   "metadata": {},
   "source": [
    "# Data Mining Project"
   ]
  },
  {
   "cell_type": "code",
   "execution_count": 59,
   "metadata": {},
   "outputs": [],
   "source": [
    "#setup\n",
    "import numpy\n",
    "import pandas as pd\n",
    "import os\n",
    "import matplotlib.pyplot as plt\n",
    "import plotly\n",
    "import plotly.plotly as py\n",
    "from mpl_toolkits import mplot3d\n",
    "plotly.tools.set_credentials_file(username='xavier2696', api_key='97cuXMXYTejnMxo9gpIk')\n",
    "import re\n",
    "from sklearn import preprocessing, metrics, decomposition, pipeline, dummy\n",
    "import sys\n",
    "import math"
   ]
  },
  {
   "cell_type": "code",
   "execution_count": 2,
   "metadata": {},
   "outputs": [],
   "source": [
    "%load_ext autoreload\n",
    "%autoreload 2"
   ]
  },
  {
   "cell_type": "code",
   "execution_count": 3,
   "metadata": {},
   "outputs": [],
   "source": [
    "#tainan buildings dataframe\n",
    "building_df = pd.read_pickle('data/building/tainan/Tainan_lat_long_removed_invalid.pkl')"
   ]
  },
  {
   "cell_type": "code",
   "execution_count": 4,
   "metadata": {},
   "outputs": [],
   "source": [
    "building_df.reset_index(drop=True, inplace=True)"
   ]
  },
  {
   "cell_type": "code",
   "execution_count": 5,
   "metadata": {},
   "outputs": [],
   "source": [
    "english_columns = {'_id.$oid':'id',\n",
    "                   '停車空間':'parking_space',\n",
    "                   '原領執照字號':'license_number',\n",
    "                   '地上層數':'floors_above',\n",
    "                   '地下層數':'floors_basement',\n",
    "                   '地下避難面積':'underground_refuge_area',\n",
    "                   '地號':'place_code',\n",
    "                   '執照類別':'license_category',\n",
    "                   '基地面積':'base_area',\n",
    "                   '實際開工日期':'date',\n",
    "                   '建築物高度':'height',\n",
    "                   '建築面積':'area',\n",
    "                   '建造類別':'category',\n",
    "                   '戶數':'number_households',\n",
    "                   '承造人':'contractor',\n",
    "                   '核發執照字號':'issuing_license_number',\n",
    "                   '棟數':'number_buildings',\n",
    "                   '構造別':'construct',\n",
    "                   '樓層概要':'floor_summary',\n",
    "                   '法定空地面積':'legal_empty_space',\n",
    "                   '發照日期':'date_issued',\n",
    "                   '監造人':'supervisor',\n",
    "                   '竣工日期':'completion_date',\n",
    "                   '總樓地板面積':'total_floor_area',\n",
    "                   '設計人':'designer',\n",
    "                   '變更設計次數':'change_design_times',\n",
    "                   '起造人代表人':'representative',\n",
    "                   '門牌':'address',\n",
    "                   '雜項工作物':'miscellaneous',\n",
    "                  }"
   ]
  },
  {
   "cell_type": "code",
   "execution_count": 6,
   "metadata": {},
   "outputs": [],
   "source": [
    "building_df.rename(index=str, columns=english_columns, inplace=True)"
   ]
  },
  {
   "cell_type": "code",
   "execution_count": 7,
   "metadata": {},
   "outputs": [
    {
     "name": "stdout",
     "output_type": "stream",
     "text": [
      "392367\n",
      "<class 'pandas.core.frame.DataFrame'>\n",
      "Index: 392367 entries, 0 to 392366\n",
      "Data columns (total 32 columns):\n",
      "id                         392367 non-null object\n",
      "qtime                      392367 non-null object\n",
      "parking_space              392367 non-null object\n",
      "license_number             392367 non-null object\n",
      "floors_above               392367 non-null object\n",
      "floors_basement            392367 non-null object\n",
      "underground_refuge_area    392367 non-null object\n",
      "place_code                 392367 non-null object\n",
      "license_category           392367 non-null object\n",
      "base_area                  392367 non-null object\n",
      "date                       392367 non-null object\n",
      "height                     392367 non-null object\n",
      "area                       392367 non-null object\n",
      "category                   392367 non-null object\n",
      "number_households          392367 non-null object\n",
      "contractor                 392367 non-null object\n",
      "issuing_license_number     392367 non-null object\n",
      "number_buildings           392367 non-null object\n",
      "construct                  392367 non-null object\n",
      "floor_summary              392367 non-null object\n",
      "legal_empty_space          392367 non-null object\n",
      "date_issued                392367 non-null object\n",
      "supervisor                 392367 non-null object\n",
      "completion_date            392367 non-null object\n",
      "total_floor_area           392367 non-null object\n",
      "designer                   392367 non-null object\n",
      "change_design_times        392367 non-null object\n",
      "representative             392367 non-null object\n",
      "address                    392367 non-null object\n",
      "miscellaneous              392367 non-null object\n",
      "lat                        392367 non-null object\n",
      "long                       392367 non-null object\n",
      "dtypes: object(32)\n",
      "memory usage: 98.8+ MB\n"
     ]
    }
   ],
   "source": [
    "print(len(building_df))\n",
    "building_df.info()"
   ]
  },
  {
   "cell_type": "code",
   "execution_count": 14,
   "metadata": {},
   "outputs": [
    {
     "data": {
      "text/html": [
       "<div>\n",
       "<style scoped>\n",
       "    .dataframe tbody tr th:only-of-type {\n",
       "        vertical-align: middle;\n",
       "    }\n",
       "\n",
       "    .dataframe tbody tr th {\n",
       "        vertical-align: top;\n",
       "    }\n",
       "\n",
       "    .dataframe thead th {\n",
       "        text-align: right;\n",
       "    }\n",
       "</style>\n",
       "<table border=\"1\" class=\"dataframe\">\n",
       "  <thead>\n",
       "    <tr style=\"text-align: right;\">\n",
       "      <th></th>\n",
       "      <th>id</th>\n",
       "      <th>qtime</th>\n",
       "      <th>parking_space</th>\n",
       "      <th>license_number</th>\n",
       "      <th>floors_above</th>\n",
       "      <th>floors_basement</th>\n",
       "      <th>underground_refuge_area</th>\n",
       "      <th>place_code</th>\n",
       "      <th>license_category</th>\n",
       "      <th>base_area</th>\n",
       "      <th>...</th>\n",
       "      <th>supervisor</th>\n",
       "      <th>completion_date</th>\n",
       "      <th>total_floor_area</th>\n",
       "      <th>designer</th>\n",
       "      <th>change_design_times</th>\n",
       "      <th>representative</th>\n",
       "      <th>address</th>\n",
       "      <th>miscellaneous</th>\n",
       "      <th>lat</th>\n",
       "      <th>long</th>\n",
       "    </tr>\n",
       "  </thead>\n",
       "  <tbody>\n",
       "    <tr>\n",
       "      <th>0</th>\n",
       "      <td>5c0ac340e0f478b5cd6935f7</td>\n",
       "      <td></td>\n",
       "      <td>法定0輛，獎勵0輛，自設0輛</td>\n",
       "      <td></td>\n",
       "      <td>0層</td>\n",
       "      <td>0層</td>\n",
       "      <td>0㎡</td>\n",
       "      <td>[]</td>\n",
       "      <td>使用執照</td>\n",
       "      <td>0㎡</td>\n",
       "      <td>...</td>\n",
       "      <td></td>\n",
       "      <td>年月日</td>\n",
       "      <td>0㎡</td>\n",
       "      <td></td>\n",
       "      <td>00</td>\n",
       "      <td></td>\n",
       "      <td>[]</td>\n",
       "      <td></td>\n",
       "      <td></td>\n",
       "      <td></td>\n",
       "    </tr>\n",
       "    <tr>\n",
       "      <th>1</th>\n",
       "      <td>5c0ac340e0f478b5cd6935f8</td>\n",
       "      <td></td>\n",
       "      <td>法定0輛，獎勵0輛，自設0輛</td>\n",
       "      <td></td>\n",
       "      <td>0層</td>\n",
       "      <td>0層</td>\n",
       "      <td>0㎡</td>\n",
       "      <td>[]</td>\n",
       "      <td>使用執照</td>\n",
       "      <td>0㎡</td>\n",
       "      <td>...</td>\n",
       "      <td></td>\n",
       "      <td>年月日</td>\n",
       "      <td>0㎡</td>\n",
       "      <td></td>\n",
       "      <td>00</td>\n",
       "      <td></td>\n",
       "      <td>[]</td>\n",
       "      <td></td>\n",
       "      <td></td>\n",
       "      <td></td>\n",
       "    </tr>\n",
       "  </tbody>\n",
       "</table>\n",
       "<p>2 rows × 32 columns</p>\n",
       "</div>"
      ],
      "text/plain": [
       "                         id qtime   parking_space license_number floors_above  \\\n",
       "0  5c0ac340e0f478b5cd6935f7        法定0輛，獎勵0輛，自設0輛                          0層   \n",
       "1  5c0ac340e0f478b5cd6935f8        法定0輛，獎勵0輛，自設0輛                          0層   \n",
       "\n",
       "  floors_basement underground_refuge_area place_code license_category  \\\n",
       "0              0層                      0㎡         []             使用執照   \n",
       "1              0層                      0㎡         []             使用執照   \n",
       "\n",
       "  base_area ...  supervisor completion_date total_floor_area designer  \\\n",
       "0        0㎡ ...                         年月日               0㎡            \n",
       "1        0㎡ ...                         年月日               0㎡            \n",
       "\n",
       "  change_design_times representative address miscellaneous lat long  \n",
       "0                  00                     []                         \n",
       "1                  00                     []                         \n",
       "\n",
       "[2 rows x 32 columns]"
      ]
     },
     "execution_count": 14,
     "metadata": {},
     "output_type": "execute_result"
    }
   ],
   "source": [
    "building_df[0:2]"
   ]
  },
  {
   "cell_type": "code",
   "execution_count": 15,
   "metadata": {},
   "outputs": [
    {
     "data": {
      "text/plain": [
       "      239270\n",
       "新建    151001\n",
       "增建      2011\n",
       "改建        53\n",
       "修建        26\n",
       "拆除         6\n",
       "Name: category, dtype: int64"
      ]
     },
     "execution_count": 15,
     "metadata": {},
     "output_type": "execute_result"
    }
   ],
   "source": [
    "building_df.category.value_counts()"
   ]
  },
  {
   "cell_type": "code",
   "execution_count": null,
   "metadata": {},
   "outputs": [],
   "source": []
  },
  {
   "cell_type": "code",
   "execution_count": 9,
   "metadata": {},
   "outputs": [
    {
     "name": "stdout",
     "output_type": "stream",
     "text": [
      "Percentage of data without address: 0.2843970058644076\n",
      "Percentage of data without lat and lon 0.5066888907578874\n"
     ]
    }
   ],
   "source": [
    "count = 0\n",
    "count2 = 0\n",
    "for index, row in building_df.iterrows():\n",
    "    if len(row.address) == 0:\n",
    "        count = count + 1\n",
    "    if row.lat == '' and row.long == '':\n",
    "        count2 = count2 + 1\n",
    "print(\"Percentage of data without address:\", count/len(building_df))\n",
    "print(\"Percentage of data without lat and lon\", count2/len(building_df))"
   ]
  },
  {
   "cell_type": "code",
   "execution_count": 20,
   "metadata": {},
   "outputs": [],
   "source": [
    "#row_list = []"
   ]
  },
  {
   "cell_type": "code",
   "execution_count": 21,
   "metadata": {},
   "outputs": [],
   "source": [
    "#filter data of shanhua district\n",
    "#for index, row in building_df.iterrows():\n",
    "    #if len(row.address) > 0 and \"善化\" in row.address[0]['行政區']:\n",
    "        #row_list.append(row)\n",
    "#print(\"Length of shanhua district data:\", len(row_list))"
   ]
  },
  {
   "cell_type": "code",
   "execution_count": 22,
   "metadata": {},
   "outputs": [],
   "source": [
    "#filtered_df = pd.DataFrame(row_list)"
   ]
  },
  {
   "cell_type": "code",
   "execution_count": 23,
   "metadata": {},
   "outputs": [],
   "source": [
    "#filtered_df[0:2]"
   ]
  },
  {
   "cell_type": "code",
   "execution_count": 24,
   "metadata": {},
   "outputs": [],
   "source": [
    "#filtered_df.to_pickle('data/building/tainan/shanhua.pkl') "
   ]
  },
  {
   "cell_type": "code",
   "execution_count": 25,
   "metadata": {},
   "outputs": [],
   "source": [
    "#filtered_df = pd.read_pickle('data/building/tainan/shanhua.pkl')"
   ]
  },
  {
   "cell_type": "code",
   "execution_count": 26,
   "metadata": {},
   "outputs": [],
   "source": [
    "#filtered_df[-10:][['id','date']]"
   ]
  },
  {
   "cell_type": "code",
   "execution_count": 27,
   "metadata": {},
   "outputs": [],
   "source": [
    "#filtered_df.address[:1][0]"
   ]
  },
  {
   "cell_type": "code",
   "execution_count": 28,
   "metadata": {},
   "outputs": [],
   "source": [
    "#shanhua_df = filtered_df[['id','license_number','floors_above','floors_basement','license_category','base_area',\\\n",
    "#                         'date', 'height', 'area', 'category', 'number_households', 'issuing_license_number',\\\n",
    "#                        'construct', 'floor_summary', 'date_issued', 'completion_date', 'total_floor_area',\\\n",
    "#                        'change_design_times', 'representative', 'address']]"
   ]
  },
  {
   "cell_type": "code",
   "execution_count": 29,
   "metadata": {},
   "outputs": [],
   "source": [
    "#shanhua_df[0:2]\n",
    "#a lot of data is missing in the older buildings"
   ]
  },
  {
   "cell_type": "code",
   "execution_count": 30,
   "metadata": {},
   "outputs": [],
   "source": [
    "#shanhua_df[-2:]"
   ]
  },
  {
   "cell_type": "code",
   "execution_count": 12,
   "metadata": {},
   "outputs": [],
   "source": [
    "def get_english_license_category(license):\n",
    "    if license == '使用執照':\n",
    "        return 'use'\n",
    "    if license == '建造執照':\n",
    "        return 'construction'\n",
    "    if license == '雜項執照':\n",
    "        return 'miscellaneous'\n",
    "    if license == '拆除執照':\n",
    "        return 'demolition'\n",
    "    return 'na'\n",
    "\n",
    "def get_english_category(category):\n",
    "    if category == '新建':\n",
    "        return 'new'\n",
    "    if category == '增建':\n",
    "        return 'additional'\n",
    "    if category == '改建':\n",
    "        return 'reconstruction'\n",
    "    if category == '修建':\n",
    "        return 'construction'\n",
    "    if category == '拆除':\n",
    "        return 'teardown'\n",
    "    \n",
    "    return 'old'"
   ]
  },
  {
   "cell_type": "code",
   "execution_count": 9,
   "metadata": {},
   "outputs": [],
   "source": [
    "#columns need to complete data\n",
    "#license_category, category, \n",
    "#id = []\n",
    "number_floors = []\n",
    "number_basements = []\n",
    "license_category = []\n",
    "base_area = []\n",
    "date = [] #use original date because completion date has too little values\n",
    "issuing_license_number = []\n",
    "completion_date = []\n",
    "date_issued = []\n",
    "height = []\n",
    "building_area = []\n",
    "category = []\n",
    "number_households = []\n",
    "construction_type = []\n",
    "total_floor_area = []\n",
    "number_design_changes = []\n",
    "latitude = []\n",
    "longitude = []\n",
    "address = []\n",
    "\n",
    "for index,row in building_df.iterrows():\n",
    "    if row.lat == '' and row.long == '':\n",
    "        continue\n",
    "    #number of floors\n",
    "    number_floors += [int(re.sub(\"[^0-9]\", \"\", row.floors_above))]\n",
    "    #number of basements\n",
    "    number_basements += [int(re.sub(\"[^0-9]\", \"\", row.floors_basement))]\n",
    "    #license_category\n",
    "    license_category += [get_english_license_category(row.license_category)]\n",
    "    #base area\n",
    "    base_area += [float(re.sub(\"[^0-9.]\", \"\", row.base_area))]\n",
    "    #date\n",
    "    #todo find a way to represent it as a number\n",
    "    date += [row.date]\n",
    "    completion_date += [row.completion_date]\n",
    "    date_issued += [row.date_issued]\n",
    "    issuing_license_number += [row.issuing_license_number]\n",
    "    #height\n",
    "    height += [float(re.sub(\"[^0-9.]\", \"\", row.height))]\n",
    "    #building_area\n",
    "    building_area += [float(re.sub(\"[^0-9.]\", \"\", row.area))]\n",
    "    #category\n",
    "    category += [get_english_category(row.category)]\n",
    "    #number_households\n",
    "    number_households += [int(re.sub(\"[^0-9]\", \"\", row.number_households))]\n",
    "    #construction_type\n",
    "    c_type = 'unknown'\n",
    "    if row.construct != '':\n",
    "        c_type = row.construct\n",
    "    construction_type += [c_type]\n",
    "    #total floor area\n",
    "    total_floor_area += [float(re.sub(\"[^0-9.]\", \"\", row.total_floor_area))]\n",
    "    #number design changes\n",
    "    number_design_changes += [int(re.sub(\"[^0-9]\", \"\", row.change_design_times))]\n",
    "    #address (chinese for now, latitude and longitude later)\n",
    "    address += [row.address]\n",
    "    #latitude\n",
    "    latitude += [float(row.lat)]\n",
    "    #longitude\n",
    "    longitude += [float(row.long)]\n",
    "\n",
    "data_dictionary = {'number_floors':number_floors,\n",
    "                   'number_basements':number_basements,\n",
    "                   'license_category':license_category,\n",
    "                   'base_area':base_area,\n",
    "                   'date':date,\n",
    "                   'height':height,\n",
    "                   'building_area':building_area,\n",
    "                   'category':category,\n",
    "                   'number_households':number_households,\n",
    "                   'construction_type':construction_type,\n",
    "                   'total_floor_area':total_floor_area,\n",
    "                   'number_design_changes':number_design_changes,\n",
    "                   'latitude':latitude,\n",
    "                   'longitude':longitude,\n",
    "                   'address': address,\n",
    "                   'completion_date':completion_date,\n",
    "                   'date_issued':date_issued,\n",
    "                   'issuing_license_number':issuing_license_number\n",
    "                  }\n",
    "buildings_english_df = pd.DataFrame(data_dictionary)\n",
    "    "
   ]
  },
  {
   "cell_type": "code",
   "execution_count": 10,
   "metadata": {},
   "outputs": [
    {
     "name": "stdout",
     "output_type": "stream",
     "text": [
      "<class 'pandas.core.frame.DataFrame'>\n",
      "RangeIndex: 193559 entries, 0 to 193558\n",
      "Data columns (total 18 columns):\n",
      "address                   193559 non-null object\n",
      "base_area                 193559 non-null float64\n",
      "building_area             193559 non-null float64\n",
      "category                  193559 non-null object\n",
      "completion_date           193559 non-null object\n",
      "construction_type         193559 non-null object\n",
      "date                      193559 non-null object\n",
      "date_issued               193559 non-null object\n",
      "height                    193559 non-null float64\n",
      "issuing_license_number    193559 non-null object\n",
      "latitude                  193559 non-null float64\n",
      "license_category          193559 non-null object\n",
      "longitude                 193559 non-null float64\n",
      "number_basements          193559 non-null int64\n",
      "number_design_changes     193559 non-null int64\n",
      "number_floors             193559 non-null int64\n",
      "number_households         193559 non-null int64\n",
      "total_floor_area          193559 non-null float64\n",
      "dtypes: float64(6), int64(4), object(8)\n",
      "memory usage: 26.6+ MB\n"
     ]
    }
   ],
   "source": [
    "buildings_english_df.info()"
   ]
  },
  {
   "cell_type": "code",
   "execution_count": 13,
   "metadata": {},
   "outputs": [
    {
     "data": {
      "text/plain": [
       "old               124734\n",
       "new                67154\n",
       "additional          1609\n",
       "reconstruction        35\n",
       "construction          21\n",
       "teardown               6\n",
       "Name: category, dtype: int64"
      ]
     },
     "execution_count": 13,
     "metadata": {},
     "output_type": "execute_result"
    }
   ],
   "source": [
    "buildings_english_df.category.value_counts()"
   ]
  },
  {
   "cell_type": "code",
   "execution_count": 14,
   "metadata": {},
   "outputs": [],
   "source": [
    "buildings_english_df.to_pickle('data/building/tainan/buildings_english.pkl') "
   ]
  },
  {
   "cell_type": "code",
   "execution_count": 15,
   "metadata": {},
   "outputs": [
    {
     "data": {
      "text/plain": [
       "122042"
      ]
     },
     "execution_count": 15,
     "metadata": {},
     "output_type": "execute_result"
    }
   ],
   "source": [
    "len(buildings_english_df[buildings_english_df.construction_type == 'unknown'])"
   ]
  },
  {
   "cell_type": "code",
   "execution_count": 26,
   "metadata": {},
   "outputs": [
    {
     "data": {
      "text/html": [
       "<div>\n",
       "<style scoped>\n",
       "    .dataframe tbody tr th:only-of-type {\n",
       "        vertical-align: middle;\n",
       "    }\n",
       "\n",
       "    .dataframe tbody tr th {\n",
       "        vertical-align: top;\n",
       "    }\n",
       "\n",
       "    .dataframe thead th {\n",
       "        text-align: right;\n",
       "    }\n",
       "</style>\n",
       "<table border=\"1\" class=\"dataframe\">\n",
       "  <thead>\n",
       "    <tr style=\"text-align: right;\">\n",
       "      <th></th>\n",
       "      <th>address</th>\n",
       "      <th>base_area</th>\n",
       "      <th>building_area</th>\n",
       "      <th>category</th>\n",
       "      <th>construction_type</th>\n",
       "      <th>date</th>\n",
       "      <th>height</th>\n",
       "      <th>latitude</th>\n",
       "      <th>license_category</th>\n",
       "      <th>longitude</th>\n",
       "      <th>number_basements</th>\n",
       "      <th>number_design_changes</th>\n",
       "      <th>number_floors</th>\n",
       "      <th>number_households</th>\n",
       "      <th>total_floor_area</th>\n",
       "    </tr>\n",
       "  </thead>\n",
       "  <tbody>\n",
       "    <tr>\n",
       "      <th>0</th>\n",
       "      <td>[{'路街段巷弄': '150巷', '戶號': '', '村里鄰': '', '樓': '...</td>\n",
       "      <td>0.0</td>\n",
       "      <td>0.0</td>\n",
       "      <td>old</td>\n",
       "      <td>unknown</td>\n",
       "      <td>年月日</td>\n",
       "      <td>0.0</td>\n",
       "      <td>23.31041</td>\n",
       "      <td>use</td>\n",
       "      <td>120.316400</td>\n",
       "      <td>0</td>\n",
       "      <td>0</td>\n",
       "      <td>0</td>\n",
       "      <td>0</td>\n",
       "      <td>0.0</td>\n",
       "    </tr>\n",
       "    <tr>\n",
       "      <th>1</th>\n",
       "      <td>[{'路街段巷弄': '生產路500巷102弄', '戶號': '1', '村里鄰': ''...</td>\n",
       "      <td>0.0</td>\n",
       "      <td>0.0</td>\n",
       "      <td>old</td>\n",
       "      <td>unknown</td>\n",
       "      <td>年月日</td>\n",
       "      <td>7.0</td>\n",
       "      <td>22.96486</td>\n",
       "      <td>use</td>\n",
       "      <td>120.229242</td>\n",
       "      <td>0</td>\n",
       "      <td>0</td>\n",
       "      <td>2</td>\n",
       "      <td>1</td>\n",
       "      <td>0.0</td>\n",
       "    </tr>\n",
       "  </tbody>\n",
       "</table>\n",
       "</div>"
      ],
      "text/plain": [
       "                                             address  base_area  \\\n",
       "0  [{'路街段巷弄': '150巷', '戶號': '', '村里鄰': '', '樓': '...        0.0   \n",
       "1  [{'路街段巷弄': '生產路500巷102弄', '戶號': '1', '村里鄰': ''...        0.0   \n",
       "\n",
       "   building_area category construction_type date  height  latitude  \\\n",
       "0            0.0      old           unknown  年月日     0.0  23.31041   \n",
       "1            0.0      old           unknown  年月日     7.0  22.96486   \n",
       "\n",
       "  license_category   longitude  number_basements  number_design_changes  \\\n",
       "0              use  120.316400                 0                      0   \n",
       "1              use  120.229242                 0                      0   \n",
       "\n",
       "   number_floors  number_households  total_floor_area  \n",
       "0              0                  0               0.0  \n",
       "1              2                  1               0.0  "
      ]
     },
     "execution_count": 26,
     "metadata": {},
     "output_type": "execute_result"
    }
   ],
   "source": [
    "buildings_english_df[0:2]"
   ]
  },
  {
   "cell_type": "code",
   "execution_count": 38,
   "metadata": {},
   "outputs": [],
   "source": [
    "#binarization for categorical columns\n",
    "#buildings_english_binarized_df = buildings_english_df.copy()\n",
    "\n",
    "#category_binarizer = preprocessing.LabelBinarizer()\n",
    "#category_binarizer.fit(buildings_english_binarized_df.category)\n",
    "#buildings_english_binarized_df['category'] = category_binarizer.transform(buildings_english_binarized_df['category']).tolist()\n",
    "\n",
    "#construction_type_binarizer = preprocessing.LabelBinarizer()\n",
    "#construction_type_binarizer.fit(buildings_english_binarized_df.construction_type)\n",
    "#buildings_english_binarized_df['construction_type'] = construction_type_binarizer.transform(buildings_english_binarized_df['construction_type']).tolist()\n",
    "\n",
    "#license_category_binarizer = preprocessing.LabelBinarizer()\n",
    "#license_category_binarizer.fit(buildings_english_binarized_df.license_category)\n",
    "#buildings_english_binarized_df['license_category'] = license_category_binarizer.transform(buildings_english_binarized_df['license_category']).tolist()"
   ]
  },
  {
   "cell_type": "code",
   "execution_count": 39,
   "metadata": {},
   "outputs": [],
   "source": [
    "#buildings_english_binarized_df[0:2]"
   ]
  },
  {
   "cell_type": "code",
   "execution_count": 16,
   "metadata": {},
   "outputs": [],
   "source": [
    "#building damages\n",
    "yellow_damaged_buildings_df = pd.read_csv('data/building/tainan/opendata0206earthquakedangerbuildingmarkedyellow20160311.csv')\n",
    "yellow_damaged_buildings_df['damage_level'] = 1"
   ]
  },
  {
   "cell_type": "code",
   "execution_count": 17,
   "metadata": {},
   "outputs": [
    {
     "data": {
      "text/plain": [
       "329"
      ]
     },
     "execution_count": 17,
     "metadata": {},
     "output_type": "execute_result"
    }
   ],
   "source": [
    "len(yellow_damaged_buildings_df)"
   ]
  },
  {
   "cell_type": "code",
   "execution_count": 18,
   "metadata": {},
   "outputs": [
    {
     "data": {
      "text/html": [
       "<div>\n",
       "<style scoped>\n",
       "    .dataframe tbody tr th:only-of-type {\n",
       "        vertical-align: middle;\n",
       "    }\n",
       "\n",
       "    .dataframe tbody tr th {\n",
       "        vertical-align: top;\n",
       "    }\n",
       "\n",
       "    .dataframe thead th {\n",
       "        text-align: right;\n",
       "    }\n",
       "</style>\n",
       "<table border=\"1\" class=\"dataframe\">\n",
       "  <thead>\n",
       "    <tr style=\"text-align: right;\">\n",
       "      <th></th>\n",
       "      <th>流水號</th>\n",
       "      <th>行政區</th>\n",
       "      <th>地址</th>\n",
       "      <th>經度</th>\n",
       "      <th>緯度</th>\n",
       "      <th>初勘人員</th>\n",
       "      <th>Unnamed: 6</th>\n",
       "      <th>Unnamed: 7</th>\n",
       "      <th>Unnamed: 8</th>\n",
       "      <th>Unnamed: 9</th>\n",
       "      <th>damage_level</th>\n",
       "    </tr>\n",
       "  </thead>\n",
       "  <tbody>\n",
       "    <tr>\n",
       "      <th>327</th>\n",
       "      <td>328</td>\n",
       "      <td>關廟區</td>\n",
       "      <td>臺南市關廟區旺萊路263號</td>\n",
       "      <td>120.337668</td>\n",
       "      <td>22.955858</td>\n",
       "      <td>楊王進、黃柏鈞</td>\n",
       "      <td>NaN</td>\n",
       "      <td>NaN</td>\n",
       "      <td>NaN</td>\n",
       "      <td>NaN</td>\n",
       "      <td>1</td>\n",
       "    </tr>\n",
       "    <tr>\n",
       "      <th>328</th>\n",
       "      <td>329</td>\n",
       "      <td>鹽水區</td>\n",
       "      <td>臺南市鹽水區孫厝里1鄰孫厝寮4-3號</td>\n",
       "      <td>120.226009</td>\n",
       "      <td>23.289025</td>\n",
       "      <td>周志安</td>\n",
       "      <td>NaN</td>\n",
       "      <td>NaN</td>\n",
       "      <td>NaN</td>\n",
       "      <td>NaN</td>\n",
       "      <td>1</td>\n",
       "    </tr>\n",
       "  </tbody>\n",
       "</table>\n",
       "</div>"
      ],
      "text/plain": [
       "     流水號  行政區                  地址          經度         緯度     初勘人員  Unnamed: 6  \\\n",
       "327  328  關廟區       臺南市關廟區旺萊路263號  120.337668  22.955858  楊王進、黃柏鈞         NaN   \n",
       "328  329  鹽水區  臺南市鹽水區孫厝里1鄰孫厝寮4-3號  120.226009  23.289025      周志安         NaN   \n",
       "\n",
       "     Unnamed: 7  Unnamed: 8  Unnamed: 9  damage_level  \n",
       "327         NaN         NaN         NaN             1  \n",
       "328         NaN         NaN         NaN             1  "
      ]
     },
     "execution_count": 18,
     "metadata": {},
     "output_type": "execute_result"
    }
   ],
   "source": [
    "yellow_damaged_buildings_df[-2:]"
   ]
  },
  {
   "cell_type": "code",
   "execution_count": 19,
   "metadata": {},
   "outputs": [],
   "source": [
    "red_damaged_buildings_df = pd.read_csv('data/building/tainan/opendata0206earthquakedangerbuildingmarkedred20160311.csv')\n",
    "red_damaged_buildings_df['damage_level'] = 2"
   ]
  },
  {
   "cell_type": "code",
   "execution_count": 20,
   "metadata": {},
   "outputs": [
    {
     "data": {
      "text/plain": [
       "250"
      ]
     },
     "execution_count": 20,
     "metadata": {},
     "output_type": "execute_result"
    }
   ],
   "source": [
    "len(red_damaged_buildings_df)"
   ]
  },
  {
   "cell_type": "code",
   "execution_count": 21,
   "metadata": {},
   "outputs": [
    {
     "data": {
      "text/html": [
       "<div>\n",
       "<style scoped>\n",
       "    .dataframe tbody tr th:only-of-type {\n",
       "        vertical-align: middle;\n",
       "    }\n",
       "\n",
       "    .dataframe tbody tr th {\n",
       "        vertical-align: top;\n",
       "    }\n",
       "\n",
       "    .dataframe thead th {\n",
       "        text-align: right;\n",
       "    }\n",
       "</style>\n",
       "<table border=\"1\" class=\"dataframe\">\n",
       "  <thead>\n",
       "    <tr style=\"text-align: right;\">\n",
       "      <th></th>\n",
       "      <th>流水號</th>\n",
       "      <th>行政區</th>\n",
       "      <th>地址</th>\n",
       "      <th>經度</th>\n",
       "      <th>緯度</th>\n",
       "      <th>初勘人員</th>\n",
       "      <th>damage_level</th>\n",
       "    </tr>\n",
       "  </thead>\n",
       "  <tbody>\n",
       "    <tr>\n",
       "      <th>248</th>\n",
       "      <td>249</td>\n",
       "      <td>鹽水區</td>\n",
       "      <td>臺南市鹽水區康樂路2號</td>\n",
       "      <td>120.267411</td>\n",
       "      <td>23.317453</td>\n",
       "      <td>蔡炅霖、周志安</td>\n",
       "      <td>2</td>\n",
       "    </tr>\n",
       "    <tr>\n",
       "      <th>249</th>\n",
       "      <td>250</td>\n",
       "      <td>鹽水區</td>\n",
       "      <td>臺南市鹽水區南港里9鄰?頭港198-15號</td>\n",
       "      <td>120.249381</td>\n",
       "      <td>23.254387</td>\n",
       "      <td>周志安</td>\n",
       "      <td>2</td>\n",
       "    </tr>\n",
       "  </tbody>\n",
       "</table>\n",
       "</div>"
      ],
      "text/plain": [
       "     流水號  行政區                     地址          經度         緯度     初勘人員  \\\n",
       "248  249  鹽水區            臺南市鹽水區康樂路2號  120.267411  23.317453  蔡炅霖、周志安   \n",
       "249  250  鹽水區  臺南市鹽水區南港里9鄰?頭港198-15號  120.249381  23.254387      周志安   \n",
       "\n",
       "     damage_level  \n",
       "248             2  \n",
       "249             2  "
      ]
     },
     "execution_count": 21,
     "metadata": {},
     "output_type": "execute_result"
    }
   ],
   "source": [
    "red_damaged_buildings_df[-2:]"
   ]
  },
  {
   "cell_type": "code",
   "execution_count": 22,
   "metadata": {},
   "outputs": [
    {
     "name": "stdout",
     "output_type": "stream",
     "text": [
      "579\n"
     ]
    },
    {
     "data": {
      "text/html": [
       "<div>\n",
       "<style scoped>\n",
       "    .dataframe tbody tr th:only-of-type {\n",
       "        vertical-align: middle;\n",
       "    }\n",
       "\n",
       "    .dataframe tbody tr th {\n",
       "        vertical-align: top;\n",
       "    }\n",
       "\n",
       "    .dataframe thead th {\n",
       "        text-align: right;\n",
       "    }\n",
       "</style>\n",
       "<table border=\"1\" class=\"dataframe\">\n",
       "  <thead>\n",
       "    <tr style=\"text-align: right;\">\n",
       "      <th></th>\n",
       "      <th>longitude</th>\n",
       "      <th>latitude</th>\n",
       "      <th>damage_level</th>\n",
       "    </tr>\n",
       "  </thead>\n",
       "  <tbody>\n",
       "    <tr>\n",
       "      <th>0</th>\n",
       "      <td>120.230098</td>\n",
       "      <td>22.962252</td>\n",
       "      <td>2</td>\n",
       "    </tr>\n",
       "    <tr>\n",
       "      <th>1</th>\n",
       "      <td>120.234832</td>\n",
       "      <td>22.970249</td>\n",
       "      <td>2</td>\n",
       "    </tr>\n",
       "  </tbody>\n",
       "</table>\n",
       "</div>"
      ],
      "text/plain": [
       "    longitude   latitude  damage_level\n",
       "0  120.230098  22.962252             2\n",
       "1  120.234832  22.970249             2"
      ]
     },
     "execution_count": 22,
     "metadata": {},
     "output_type": "execute_result"
    }
   ],
   "source": [
    "english_columns2 = {'經度':'longitude',\n",
    "                   '緯度':'latitude',\n",
    "                  }\n",
    "combined_df = pd.concat([red_damaged_buildings_df, yellow_damaged_buildings_df], axis=0, sort=False)\n",
    "damage_df = combined_df.loc[:,('經度','緯度','damage_level')]\n",
    "damage_df.rename(index=str, columns=english_columns2, inplace=True)\n",
    "print(len(damage_df))\n",
    "damage_df[:2]"
   ]
  },
  {
   "cell_type": "code",
   "execution_count": 23,
   "metadata": {},
   "outputs": [
    {
     "name": "stdout",
     "output_type": "stream",
     "text": [
      "<class 'pandas.core.frame.DataFrame'>\n",
      "Index: 579 entries, 0 to 328\n",
      "Data columns (total 3 columns):\n",
      "longitude       578 non-null float64\n",
      "latitude        578 non-null float64\n",
      "damage_level    579 non-null int64\n",
      "dtypes: float64(2), int64(1)\n",
      "memory usage: 18.1+ KB\n"
     ]
    }
   ],
   "source": [
    "damage_df.info()"
   ]
  },
  {
   "cell_type": "code",
   "execution_count": 24,
   "metadata": {},
   "outputs": [],
   "source": [
    "damage_df.to_pickle('data/building/tainan/buildings_damaged.pkl')"
   ]
  },
  {
   "cell_type": "code",
   "execution_count": 25,
   "metadata": {},
   "outputs": [],
   "source": [
    "#liquefaction\n",
    "liquefaction_df = pd.read_pickle('data/geographical/liquefaction.pkl')"
   ]
  },
  {
   "cell_type": "code",
   "execution_count": 26,
   "metadata": {},
   "outputs": [
    {
     "name": "stdout",
     "output_type": "stream",
     "text": [
      "<class 'pandas.core.frame.DataFrame'>\n",
      "RangeIndex: 446 entries, 0 to 445\n",
      "Data columns (total 5 columns):\n",
      "coordinates    446 non-null object\n",
      "type           446 non-null object\n",
      "area           446 non-null object\n",
      "classify       446 non-null int64\n",
      "level          446 non-null object\n",
      "dtypes: int64(1), object(4)\n",
      "memory usage: 17.5+ KB\n"
     ]
    }
   ],
   "source": [
    "liquefaction_df.info()"
   ]
  },
  {
   "cell_type": "code",
   "execution_count": 27,
   "metadata": {},
   "outputs": [
    {
     "data": {
      "text/html": [
       "<div>\n",
       "<style scoped>\n",
       "    .dataframe tbody tr th:only-of-type {\n",
       "        vertical-align: middle;\n",
       "    }\n",
       "\n",
       "    .dataframe tbody tr th {\n",
       "        vertical-align: top;\n",
       "    }\n",
       "\n",
       "    .dataframe thead th {\n",
       "        text-align: right;\n",
       "    }\n",
       "</style>\n",
       "<table border=\"1\" class=\"dataframe\">\n",
       "  <thead>\n",
       "    <tr style=\"text-align: right;\">\n",
       "      <th></th>\n",
       "      <th>coordinates</th>\n",
       "      <th>type</th>\n",
       "      <th>area</th>\n",
       "      <th>classify</th>\n",
       "      <th>level</th>\n",
       "    </tr>\n",
       "  </thead>\n",
       "  <tbody>\n",
       "    <tr>\n",
       "      <th>0</th>\n",
       "      <td>[[[120.27871193, 22.89375869], [120.27871671, ...</td>\n",
       "      <td>Polygon</td>\n",
       "      <td>TaiNan</td>\n",
       "      <td>1</td>\n",
       "      <td>中潛勢</td>\n",
       "    </tr>\n",
       "    <tr>\n",
       "      <th>1</th>\n",
       "      <td>[[[120.27871193, 22.89375869], [120.27870716, ...</td>\n",
       "      <td>Polygon</td>\n",
       "      <td>TaiNan</td>\n",
       "      <td>1</td>\n",
       "      <td>中潛勢</td>\n",
       "    </tr>\n",
       "    <tr>\n",
       "      <th>2</th>\n",
       "      <td>[[[120.27185562, 22.90004867], [120.27186044, ...</td>\n",
       "      <td>Polygon</td>\n",
       "      <td>TaiNan</td>\n",
       "      <td>1</td>\n",
       "      <td>中潛勢</td>\n",
       "    </tr>\n",
       "    <tr>\n",
       "      <th>3</th>\n",
       "      <td>[[[120.28842552, 22.90012372], [120.28745082, ...</td>\n",
       "      <td>Polygon</td>\n",
       "      <td>TaiNan</td>\n",
       "      <td>1</td>\n",
       "      <td>中潛勢</td>\n",
       "    </tr>\n",
       "  </tbody>\n",
       "</table>\n",
       "</div>"
      ],
      "text/plain": [
       "                                         coordinates     type    area  \\\n",
       "0  [[[120.27871193, 22.89375869], [120.27871671, ...  Polygon  TaiNan   \n",
       "1  [[[120.27871193, 22.89375869], [120.27870716, ...  Polygon  TaiNan   \n",
       "2  [[[120.27185562, 22.90004867], [120.27186044, ...  Polygon  TaiNan   \n",
       "3  [[[120.28842552, 22.90012372], [120.28745082, ...  Polygon  TaiNan   \n",
       "\n",
       "   classify level  \n",
       "0         1   中潛勢  \n",
       "1         1   中潛勢  \n",
       "2         1   中潛勢  \n",
       "3         1   中潛勢  "
      ]
     },
     "execution_count": 27,
     "metadata": {},
     "output_type": "execute_result"
    }
   ],
   "source": [
    "liquefaction_df[0:4]"
   ]
  },
  {
   "cell_type": "code",
   "execution_count": 28,
   "metadata": {},
   "outputs": [
    {
     "data": {
      "text/plain": [
       "1    250\n",
       "2    114\n",
       "0     82\n",
       "Name: classify, dtype: int64"
      ]
     },
     "execution_count": 28,
     "metadata": {},
     "output_type": "execute_result"
    }
   ],
   "source": [
    "liquefaction_df.classify.value_counts()"
   ]
  },
  {
   "cell_type": "code",
   "execution_count": 29,
   "metadata": {},
   "outputs": [
    {
     "data": {
      "text/plain": [
       "[120.27774206, 22.89285125]"
      ]
     },
     "execution_count": 29,
     "metadata": {},
     "output_type": "execute_result"
    }
   ],
   "source": [
    "liquefaction_df.coordinates[0][0][2]"
   ]
  },
  {
   "cell_type": "code",
   "execution_count": 40,
   "metadata": {},
   "outputs": [],
   "source": [
    "def get_liquefaction(lon, lat, df):\n",
    "    for index, row in df.iterrows():\n",
    "        if len(row.coordinates) > 0 and len(row.coordinates[0]) > 0:\n",
    "            for coordinate in row.coordinates[0]:\n",
    "                if \"{0:.4f}\".format(lon) == \"{0:.4f}\".format(coordinate[0]) and \"{0:.4f}\".format(lat) == \"{0:.4f}\".format(coordinate[1]):\n",
    "                    return row.classify\n",
    "            for coordinate in row.coordinates[0]:\n",
    "                if \"{0:.3f}\".format(lon) == \"{0:.3f}\".format(coordinate[0]) and \"{0:.3f}\".format(lat) == \"{0:.3f}\".format(coordinate[1]):\n",
    "                    return row.classify\n",
    "            for coordinate in row.coordinates[0]:\n",
    "                if \"{0:.2f}\".format(lon) == \"{0:.2f}\".format(coordinate[0]) and \"{0:.2f}\".format(lat) == \"{0:.2f}\".format(coordinate[1]):\n",
    "                    return row.classify\n",
    "            for coordinate in row.coordinates[0]:\n",
    "                if \"{0:.1f}\".format(lon) == \"{0:.1f}\".format(coordinate[0]) and \"{0:.1f}\".format(lat) == \"{0:.1f}\".format(coordinate[1]):\n",
    "                    return row.classify\n",
    "    return 0\n",
    "                \n",
    "def get_damage_level(lon, lat, df):\n",
    "    for index, row in df.iterrows():\n",
    "        if \"{0:.6f}\".format(row.latitude) == \"{0:.6f}\".format(lat) and \"{0:.6f}\".format(row.longitude) == \"{0:.6f}\".format(lon):\n",
    "            #print('match')\n",
    "            return row.damage_level\n",
    "    for index, row in df.iterrows():\n",
    "        if \"{0:.5f}\".format(row.latitude) == \"{0:.5f}\".format(lat) and \"{0:.5f}\".format(row.longitude) == \"{0:.5f}\".format(lon):\n",
    "            #print('match')\n",
    "            return row.damage_level\n",
    "    for index, row in df.iterrows():\n",
    "        if \"{0:.4f}\".format(row.latitude) == \"{0:.4f}\".format(lat) and \"{0:.4f}\".format(row.longitude) == \"{0:.4f}\".format(lon):\n",
    "            #print('match')\n",
    "            return row.damage_level\n",
    "    for index, row in df.iterrows():\n",
    "        if \"{0:.3f}\".format(row.latitude) == \"{0:.3f}\".format(lat) and \"{0:.3f}\".format(row.longitude) == \"{0:.3f}\".format(lon):\n",
    "            #print('match')\n",
    "            return row.damage_level\n",
    "    return 0"
   ]
  },
  {
   "cell_type": "code",
   "execution_count": 31,
   "metadata": {},
   "outputs": [
    {
     "name": "stdout",
     "output_type": "stream",
     "text": [
      "1\n"
     ]
    }
   ],
   "source": [
    "print(get_liquefaction(120.27774206,22.89285125,liquefaction_df))"
   ]
  },
  {
   "cell_type": "code",
   "execution_count": 32,
   "metadata": {},
   "outputs": [
    {
     "name": "stdout",
     "output_type": "stream",
     "text": [
      "0    23.31041\n",
      "1    22.96486\n",
      "2    22.96486\n",
      "3    22.96486\n",
      "4    22.96486\n",
      "5    22.96486\n",
      "6    22.96486\n",
      "7    22.96486\n",
      "8    22.96486\n",
      "9    22.96486\n",
      "Name: latitude, dtype: float64\n"
     ]
    }
   ],
   "source": [
    "print(buildings_english_df.latitude[0:10])"
   ]
  },
  {
   "cell_type": "code",
   "execution_count": 33,
   "metadata": {},
   "outputs": [
    {
     "name": "stdout",
     "output_type": "stream",
     "text": [
      "0    22.962252\n",
      "1    22.970249\n",
      "2    23.003243\n",
      "3    23.003243\n",
      "4    23.003243\n",
      "5    23.003243\n",
      "6    23.003169\n",
      "7    23.003169\n",
      "8    23.003169\n",
      "9    23.003169\n",
      "Name: latitude, dtype: float64\n"
     ]
    }
   ],
   "source": [
    "print(damage_df.latitude[0:10])"
   ]
  },
  {
   "cell_type": "code",
   "execution_count": 41,
   "metadata": {},
   "outputs": [],
   "source": [
    "damage_levels = []\n",
    "for index, row in buildings_english_df.iterrows():\n",
    "    damage_levels += [int(get_damage_level(row.longitude, row.latitude, damage_df))]"
   ]
  },
  {
   "cell_type": "code",
   "execution_count": 42,
   "metadata": {},
   "outputs": [],
   "source": [
    "buildings_english_df['damage_level'] = damage_levels"
   ]
  },
  {
   "cell_type": "code",
   "execution_count": 43,
   "metadata": {},
   "outputs": [
    {
     "data": {
      "text/plain": [
       "0    191799\n",
       "2      1214\n",
       "1       546\n",
       "Name: damage_level, dtype: int64"
      ]
     },
     "execution_count": 43,
     "metadata": {},
     "output_type": "execute_result"
    }
   ],
   "source": [
    "buildings_english_df.damage_level.value_counts()"
   ]
  },
  {
   "cell_type": "code",
   "execution_count": 44,
   "metadata": {},
   "outputs": [],
   "source": [
    "buildings_english_df.to_pickle('data/building/tainan/buildings_with_damages.pkl')"
   ]
  },
  {
   "cell_type": "code",
   "execution_count": 45,
   "metadata": {},
   "outputs": [],
   "source": [
    "buildings_english_df = pd.read_pickle('data/building/tainan/buildings_with_damages.pkl')"
   ]
  },
  {
   "cell_type": "code",
   "execution_count": null,
   "metadata": {},
   "outputs": [],
   "source": [
    "\n",
    "#merged_df = buildings_english_df.merge(damage_df, how='left', on=['latitude', 'longitude'])"
   ]
  },
  {
   "cell_type": "code",
   "execution_count": 46,
   "metadata": {},
   "outputs": [
    {
     "data": {
      "text/plain": [
       "0    0\n",
       "1    0\n",
       "2    0\n",
       "3    0\n",
       "4    0\n",
       "5    0\n",
       "6    0\n",
       "7    0\n",
       "8    0\n",
       "9    0\n",
       "Name: damage_level, dtype: int64"
      ]
     },
     "execution_count": 46,
     "metadata": {},
     "output_type": "execute_result"
    }
   ],
   "source": [
    "buildings_english_df.damage_level[0:10]"
   ]
  },
  {
   "cell_type": "code",
   "execution_count": 47,
   "metadata": {},
   "outputs": [],
   "source": [
    "liquefactions = []\n",
    "for index, row in buildings_english_df.iterrows():\n",
    "    liquefactions += [int(get_liquefaction(row.longitude, row.latitude, liquefaction_df))]"
   ]
  },
  {
   "cell_type": "code",
   "execution_count": 48,
   "metadata": {},
   "outputs": [
    {
     "data": {
      "text/plain": [
       "1    173155\n",
       "0     20404\n",
       "Name: liquefaction, dtype: int64"
      ]
     },
     "execution_count": 48,
     "metadata": {},
     "output_type": "execute_result"
    }
   ],
   "source": [
    "buildings_english_df['liquefaction'] = liquefactions\n",
    "buildings_english_df.liquefaction.value_counts()"
   ]
  },
  {
   "cell_type": "code",
   "execution_count": 49,
   "metadata": {},
   "outputs": [],
   "source": [
    "buildings_english_df.to_pickle('data/building/tainan/buildings_with_everything.pkl')"
   ]
  },
  {
   "cell_type": "code",
   "execution_count": null,
   "metadata": {},
   "outputs": [],
   "source": [
    "buildings_english_df[buildings_english_df['liquefaction'] == -1][-10:]"
   ]
  },
  {
   "cell_type": "code",
   "execution_count": null,
   "metadata": {},
   "outputs": [],
   "source": [
    "buildings_english_df[buildings_english_df['liquefaction'] != -1][0:10]"
   ]
  },
  {
   "cell_type": "code",
   "execution_count": 50,
   "metadata": {},
   "outputs": [],
   "source": [
    "buildings_df = pd.read_pickle('data/building/tainan/buildings_with_everything.pkl')"
   ]
  },
  {
   "cell_type": "code",
   "execution_count": 51,
   "metadata": {},
   "outputs": [
    {
     "data": {
      "text/html": [
       "<div>\n",
       "<style scoped>\n",
       "    .dataframe tbody tr th:only-of-type {\n",
       "        vertical-align: middle;\n",
       "    }\n",
       "\n",
       "    .dataframe tbody tr th {\n",
       "        vertical-align: top;\n",
       "    }\n",
       "\n",
       "    .dataframe thead th {\n",
       "        text-align: right;\n",
       "    }\n",
       "</style>\n",
       "<table border=\"1\" class=\"dataframe\">\n",
       "  <thead>\n",
       "    <tr style=\"text-align: right;\">\n",
       "      <th></th>\n",
       "      <th>address</th>\n",
       "      <th>base_area</th>\n",
       "      <th>building_area</th>\n",
       "      <th>category</th>\n",
       "      <th>completion_date</th>\n",
       "      <th>construction_type</th>\n",
       "      <th>date</th>\n",
       "      <th>date_issued</th>\n",
       "      <th>height</th>\n",
       "      <th>issuing_license_number</th>\n",
       "      <th>latitude</th>\n",
       "      <th>license_category</th>\n",
       "      <th>longitude</th>\n",
       "      <th>number_basements</th>\n",
       "      <th>number_design_changes</th>\n",
       "      <th>number_floors</th>\n",
       "      <th>number_households</th>\n",
       "      <th>total_floor_area</th>\n",
       "      <th>damage_level</th>\n",
       "      <th>liquefaction</th>\n",
       "    </tr>\n",
       "  </thead>\n",
       "  <tbody>\n",
       "    <tr>\n",
       "      <th>164</th>\n",
       "      <td>[{'村里鄰': '', '戶號': '1', '樓': '', '號': '15號', '...</td>\n",
       "      <td>0.0</td>\n",
       "      <td>0.0</td>\n",
       "      <td>old</td>\n",
       "      <td>年月日</td>\n",
       "      <td>unknown</td>\n",
       "      <td>年月日</td>\n",
       "      <td>067年01月24日</td>\n",
       "      <td>12.00</td>\n",
       "      <td>(067)南工使字第40728號</td>\n",
       "      <td>23.005583</td>\n",
       "      <td>use</td>\n",
       "      <td>120.269391</td>\n",
       "      <td>0</td>\n",
       "      <td>0</td>\n",
       "      <td>3</td>\n",
       "      <td>1</td>\n",
       "      <td>0.0</td>\n",
       "      <td>1</td>\n",
       "      <td>1</td>\n",
       "    </tr>\n",
       "    <tr>\n",
       "      <th>470</th>\n",
       "      <td>[{'村里鄰': '', '戶號': '1', '樓': '', '號': '9號', '行...</td>\n",
       "      <td>0.0</td>\n",
       "      <td>0.0</td>\n",
       "      <td>old</td>\n",
       "      <td>年月日</td>\n",
       "      <td>unknown</td>\n",
       "      <td>年月日</td>\n",
       "      <td>067年03月06日</td>\n",
       "      <td>9.10</td>\n",
       "      <td>(067)南工使字第41033號</td>\n",
       "      <td>22.964366</td>\n",
       "      <td>use</td>\n",
       "      <td>120.297488</td>\n",
       "      <td>0</td>\n",
       "      <td>0</td>\n",
       "      <td>3</td>\n",
       "      <td>1</td>\n",
       "      <td>0.0</td>\n",
       "      <td>2</td>\n",
       "      <td>1</td>\n",
       "    </tr>\n",
       "    <tr>\n",
       "      <th>471</th>\n",
       "      <td>[{'村里鄰': '', '戶號': '1', '樓': '', '號': '17號', '...</td>\n",
       "      <td>0.0</td>\n",
       "      <td>0.0</td>\n",
       "      <td>old</td>\n",
       "      <td>年月日</td>\n",
       "      <td>unknown</td>\n",
       "      <td>年月日</td>\n",
       "      <td>067年03月06日</td>\n",
       "      <td>12.10</td>\n",
       "      <td>(067)南工使字第41034號</td>\n",
       "      <td>22.964366</td>\n",
       "      <td>use</td>\n",
       "      <td>120.297488</td>\n",
       "      <td>0</td>\n",
       "      <td>0</td>\n",
       "      <td>4</td>\n",
       "      <td>1</td>\n",
       "      <td>0.0</td>\n",
       "      <td>2</td>\n",
       "      <td>1</td>\n",
       "    </tr>\n",
       "    <tr>\n",
       "      <th>1060</th>\n",
       "      <td>[{'村里鄰': '', '戶號': '1', '樓': '', '號': '21號', '...</td>\n",
       "      <td>0.0</td>\n",
       "      <td>0.0</td>\n",
       "      <td>old</td>\n",
       "      <td>年月日</td>\n",
       "      <td>unknown</td>\n",
       "      <td>年月日</td>\n",
       "      <td>067年05月18日</td>\n",
       "      <td>12.00</td>\n",
       "      <td>(067)南工字第41639號</td>\n",
       "      <td>23.317367</td>\n",
       "      <td>use</td>\n",
       "      <td>120.266649</td>\n",
       "      <td>0</td>\n",
       "      <td>0</td>\n",
       "      <td>4</td>\n",
       "      <td>1</td>\n",
       "      <td>0.0</td>\n",
       "      <td>2</td>\n",
       "      <td>0</td>\n",
       "    </tr>\n",
       "    <tr>\n",
       "      <th>1146</th>\n",
       "      <td>[{'村里鄰': '', '戶號': '1', '樓': '', '號': '38號', '...</td>\n",
       "      <td>0.0</td>\n",
       "      <td>0.0</td>\n",
       "      <td>old</td>\n",
       "      <td>年月日</td>\n",
       "      <td>unknown</td>\n",
       "      <td>年月日</td>\n",
       "      <td>067年05月31日</td>\n",
       "      <td>0.00</td>\n",
       "      <td>(067)南工字第41728號</td>\n",
       "      <td>23.317367</td>\n",
       "      <td>use</td>\n",
       "      <td>120.266649</td>\n",
       "      <td>0</td>\n",
       "      <td>0</td>\n",
       "      <td>2</td>\n",
       "      <td>1</td>\n",
       "      <td>0.0</td>\n",
       "      <td>2</td>\n",
       "      <td>0</td>\n",
       "    </tr>\n",
       "    <tr>\n",
       "      <th>3266</th>\n",
       "      <td>[{'村里鄰': '', '戶號': '1', '樓': '', '號': '28號', '...</td>\n",
       "      <td>0.0</td>\n",
       "      <td>0.0</td>\n",
       "      <td>old</td>\n",
       "      <td>年月日</td>\n",
       "      <td>unknown</td>\n",
       "      <td>年月日</td>\n",
       "      <td>067年11月30日</td>\n",
       "      <td>12.20</td>\n",
       "      <td>(067)南工字第43965號</td>\n",
       "      <td>23.317367</td>\n",
       "      <td>use</td>\n",
       "      <td>120.266649</td>\n",
       "      <td>0</td>\n",
       "      <td>0</td>\n",
       "      <td>4</td>\n",
       "      <td>1</td>\n",
       "      <td>0.0</td>\n",
       "      <td>2</td>\n",
       "      <td>0</td>\n",
       "    </tr>\n",
       "    <tr>\n",
       "      <th>3374</th>\n",
       "      <td>[{'村里鄰': '', '戶號': '1', '樓': '', '號': '30號', '...</td>\n",
       "      <td>0.0</td>\n",
       "      <td>0.0</td>\n",
       "      <td>old</td>\n",
       "      <td>年月日</td>\n",
       "      <td>unknown</td>\n",
       "      <td>年月日</td>\n",
       "      <td>067年12月11日</td>\n",
       "      <td>12.20</td>\n",
       "      <td>(067)南工字第44091號</td>\n",
       "      <td>23.317367</td>\n",
       "      <td>use</td>\n",
       "      <td>120.266649</td>\n",
       "      <td>0</td>\n",
       "      <td>0</td>\n",
       "      <td>4</td>\n",
       "      <td>1</td>\n",
       "      <td>0.0</td>\n",
       "      <td>2</td>\n",
       "      <td>0</td>\n",
       "    </tr>\n",
       "    <tr>\n",
       "      <th>3499</th>\n",
       "      <td>[{'村里鄰': '', '戶號': '1', '樓': '', '號': '10號', '...</td>\n",
       "      <td>0.0</td>\n",
       "      <td>0.0</td>\n",
       "      <td>old</td>\n",
       "      <td>年月日</td>\n",
       "      <td>unknown</td>\n",
       "      <td>年月日</td>\n",
       "      <td>067年12月13日</td>\n",
       "      <td>12.20</td>\n",
       "      <td>(067)南工字第44216號</td>\n",
       "      <td>22.996904</td>\n",
       "      <td>use</td>\n",
       "      <td>120.198159</td>\n",
       "      <td>0</td>\n",
       "      <td>0</td>\n",
       "      <td>4</td>\n",
       "      <td>1</td>\n",
       "      <td>0.0</td>\n",
       "      <td>2</td>\n",
       "      <td>1</td>\n",
       "    </tr>\n",
       "    <tr>\n",
       "      <th>4547</th>\n",
       "      <td>[{'村里鄰': '', '戶號': '1', '樓': '', '號': '210號', ...</td>\n",
       "      <td>0.0</td>\n",
       "      <td>0.0</td>\n",
       "      <td>old</td>\n",
       "      <td>年月日</td>\n",
       "      <td>unknown</td>\n",
       "      <td>年月日</td>\n",
       "      <td>068年01月23日</td>\n",
       "      <td>4.45</td>\n",
       "      <td>(068)南工字第45401號</td>\n",
       "      <td>23.123718</td>\n",
       "      <td>use</td>\n",
       "      <td>120.468816</td>\n",
       "      <td>0</td>\n",
       "      <td>0</td>\n",
       "      <td>1</td>\n",
       "      <td>1</td>\n",
       "      <td>0.0</td>\n",
       "      <td>2</td>\n",
       "      <td>0</td>\n",
       "    </tr>\n",
       "    <tr>\n",
       "      <th>6858</th>\n",
       "      <td>[{'村里鄰': '', '戶號': '1', '樓': '', '號': '34號', '...</td>\n",
       "      <td>0.0</td>\n",
       "      <td>0.0</td>\n",
       "      <td>old</td>\n",
       "      <td>年月日</td>\n",
       "      <td>unknown</td>\n",
       "      <td>年月日</td>\n",
       "      <td>068年05月23日</td>\n",
       "      <td>24.60</td>\n",
       "      <td>(068)南工字第47722號</td>\n",
       "      <td>23.317367</td>\n",
       "      <td>use</td>\n",
       "      <td>120.266649</td>\n",
       "      <td>0</td>\n",
       "      <td>0</td>\n",
       "      <td>7</td>\n",
       "      <td>1</td>\n",
       "      <td>0.0</td>\n",
       "      <td>2</td>\n",
       "      <td>0</td>\n",
       "    </tr>\n",
       "  </tbody>\n",
       "</table>\n",
       "</div>"
      ],
      "text/plain": [
       "                                                address  base_area  \\\n",
       "164   [{'村里鄰': '', '戶號': '1', '樓': '', '號': '15號', '...        0.0   \n",
       "470   [{'村里鄰': '', '戶號': '1', '樓': '', '號': '9號', '行...        0.0   \n",
       "471   [{'村里鄰': '', '戶號': '1', '樓': '', '號': '17號', '...        0.0   \n",
       "1060  [{'村里鄰': '', '戶號': '1', '樓': '', '號': '21號', '...        0.0   \n",
       "1146  [{'村里鄰': '', '戶號': '1', '樓': '', '號': '38號', '...        0.0   \n",
       "3266  [{'村里鄰': '', '戶號': '1', '樓': '', '號': '28號', '...        0.0   \n",
       "3374  [{'村里鄰': '', '戶號': '1', '樓': '', '號': '30號', '...        0.0   \n",
       "3499  [{'村里鄰': '', '戶號': '1', '樓': '', '號': '10號', '...        0.0   \n",
       "4547  [{'村里鄰': '', '戶號': '1', '樓': '', '號': '210號', ...        0.0   \n",
       "6858  [{'村里鄰': '', '戶號': '1', '樓': '', '號': '34號', '...        0.0   \n",
       "\n",
       "      building_area category completion_date construction_type date  \\\n",
       "164             0.0      old             年月日           unknown  年月日   \n",
       "470             0.0      old             年月日           unknown  年月日   \n",
       "471             0.0      old             年月日           unknown  年月日   \n",
       "1060            0.0      old             年月日           unknown  年月日   \n",
       "1146            0.0      old             年月日           unknown  年月日   \n",
       "3266            0.0      old             年月日           unknown  年月日   \n",
       "3374            0.0      old             年月日           unknown  年月日   \n",
       "3499            0.0      old             年月日           unknown  年月日   \n",
       "4547            0.0      old             年月日           unknown  年月日   \n",
       "6858            0.0      old             年月日           unknown  年月日   \n",
       "\n",
       "     date_issued  height issuing_license_number   latitude license_category  \\\n",
       "164   067年01月24日   12.00       (067)南工使字第40728號  23.005583              use   \n",
       "470   067年03月06日    9.10       (067)南工使字第41033號  22.964366              use   \n",
       "471   067年03月06日   12.10       (067)南工使字第41034號  22.964366              use   \n",
       "1060  067年05月18日   12.00        (067)南工字第41639號  23.317367              use   \n",
       "1146  067年05月31日    0.00        (067)南工字第41728號  23.317367              use   \n",
       "3266  067年11月30日   12.20        (067)南工字第43965號  23.317367              use   \n",
       "3374  067年12月11日   12.20        (067)南工字第44091號  23.317367              use   \n",
       "3499  067年12月13日   12.20        (067)南工字第44216號  22.996904              use   \n",
       "4547  068年01月23日    4.45        (068)南工字第45401號  23.123718              use   \n",
       "6858  068年05月23日   24.60        (068)南工字第47722號  23.317367              use   \n",
       "\n",
       "       longitude  number_basements  number_design_changes  number_floors  \\\n",
       "164   120.269391                 0                      0              3   \n",
       "470   120.297488                 0                      0              3   \n",
       "471   120.297488                 0                      0              4   \n",
       "1060  120.266649                 0                      0              4   \n",
       "1146  120.266649                 0                      0              2   \n",
       "3266  120.266649                 0                      0              4   \n",
       "3374  120.266649                 0                      0              4   \n",
       "3499  120.198159                 0                      0              4   \n",
       "4547  120.468816                 0                      0              1   \n",
       "6858  120.266649                 0                      0              7   \n",
       "\n",
       "      number_households  total_floor_area  damage_level  liquefaction  \n",
       "164                   1               0.0             1             1  \n",
       "470                   1               0.0             2             1  \n",
       "471                   1               0.0             2             1  \n",
       "1060                  1               0.0             2             0  \n",
       "1146                  1               0.0             2             0  \n",
       "3266                  1               0.0             2             0  \n",
       "3374                  1               0.0             2             0  \n",
       "3499                  1               0.0             2             1  \n",
       "4547                  1               0.0             2             0  \n",
       "6858                  1               0.0             2             0  "
      ]
     },
     "execution_count": 51,
     "metadata": {},
     "output_type": "execute_result"
    }
   ],
   "source": [
    "buildings_df[buildings_df.damage_level != 0][0:10]"
   ]
  },
  {
   "cell_type": "code",
   "execution_count": 52,
   "metadata": {},
   "outputs": [],
   "source": [
    "earthquakes_df = pd.read_pickle('data/earthquake/earthquakes_Tainan_withData_withPeakValue_dropUseless_removeDuplicate.pkl')"
   ]
  },
  {
   "cell_type": "code",
   "execution_count": 53,
   "metadata": {},
   "outputs": [],
   "source": [
    "def get_earthquake_data(lat, lon, df):\n",
    "    min_difference = sys.float_info.max\n",
    "    earthquake_data = [0,0,0,0,0,0,0,0,0,0,0]\n",
    "    for index, row in df.iterrows():\n",
    "        difference = math.sqrt(math.pow(abs(row.station_latitude - lat), 2) + math.pow(abs(row.station_longitude - lon), 2))\n",
    "        if difference < min_difference:\n",
    "            min_difference = difference\n",
    "            earthquake_data = [row.e_PGA, row.e_PGV, row.e_PGD, row.n_PGA, row.n_PGV, row.n_PGD, row.u_PGA, row.u_PGV, row.u_PGD, row.station_latitude, row.station_longitude]\n",
    "    return earthquake_data"
   ]
  },
  {
   "cell_type": "code",
   "execution_count": 56,
   "metadata": {},
   "outputs": [
    {
     "data": {
      "text/plain": [
       "1    173155\n",
       "0     20404\n",
       "Name: liquefaction, dtype: int64"
      ]
     },
     "execution_count": 56,
     "metadata": {},
     "output_type": "execute_result"
    }
   ],
   "source": [
    "buildings_df.liquefaction.value_counts()"
   ]
  },
  {
   "cell_type": "code",
   "execution_count": 60,
   "metadata": {},
   "outputs": [],
   "source": [
    "#add closest station data to buildings_df\n",
    "e_PGA = []\n",
    "e_PGV = []\n",
    "e_PGD = []\n",
    "n_PGA = []\n",
    "n_PGV = []\n",
    "n_PGD = []\n",
    "u_PGA = []\n",
    "u_PGV = []\n",
    "u_PGD = []\n",
    "for index, row in buildings_df.iterrows():\n",
    "    e_data = get_earthquake_data(row.latitude, row.longitude, earthquakes_df)\n",
    "    e_PGA += [e_data[0]]\n",
    "    e_PGV += [e_data[1]]\n",
    "    e_PGD += [e_data[2]]\n",
    "    n_PGA += [e_data[3]]\n",
    "    n_PGV += [e_data[4]]\n",
    "    n_PGD += [e_data[5]]\n",
    "    u_PGA += [e_data[6]]\n",
    "    u_PGV += [e_data[7]]\n",
    "    u_PGD += [e_data[8]]\n",
    "    \n",
    "buildings_df['e_PGA'] = e_PGA\n",
    "buildings_df['e_PGV'] = e_PGV\n",
    "buildings_df['e_PGD'] = e_PGD\n",
    "buildings_df['n_PGA'] = n_PGA\n",
    "buildings_df['n_PGV'] = n_PGV\n",
    "buildings_df['n_PGD'] = n_PGD\n",
    "buildings_df['u_PGA'] = u_PGA\n",
    "buildings_df['u_PGV'] = u_PGV\n",
    "buildings_df['u_PGD'] = u_PGD\n",
    "    "
   ]
  },
  {
   "cell_type": "code",
   "execution_count": 61,
   "metadata": {},
   "outputs": [],
   "source": [
    "buildings_df.to_pickle('all_tainan_data.pkl')"
   ]
  },
  {
   "cell_type": "code",
   "execution_count": 62,
   "metadata": {},
   "outputs": [
    {
     "data": {
      "text/plain": [
       "old               124734\n",
       "new                67154\n",
       "additional          1609\n",
       "reconstruction        35\n",
       "construction          21\n",
       "teardown               6\n",
       "Name: category, dtype: int64"
      ]
     },
     "execution_count": 62,
     "metadata": {},
     "output_type": "execute_result"
    }
   ],
   "source": [
    "buildings_df.category.value_counts()"
   ]
  },
  {
   "cell_type": "code",
   "execution_count": null,
   "metadata": {},
   "outputs": [],
   "source": []
  }
 ],
 "metadata": {
  "kernelspec": {
   "display_name": "Python 3",
   "language": "python",
   "name": "python3"
  },
  "language_info": {
   "codemirror_mode": {
    "name": "ipython",
    "version": 3
   },
   "file_extension": ".py",
   "mimetype": "text/x-python",
   "name": "python",
   "nbconvert_exporter": "python",
   "pygments_lexer": "ipython3",
   "version": "3.5.6"
  }
 },
 "nbformat": 4,
 "nbformat_minor": 2
}
